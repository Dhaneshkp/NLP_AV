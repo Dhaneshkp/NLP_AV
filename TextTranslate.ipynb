{
  "cells": [
    {
      "cell_type": "markdown",
      "metadata": {
        "id": "view-in-github",
        "colab_type": "text"
      },
      "source": [
        "<a href=\"https://colab.research.google.com/github/Dhaneshkp/NLP_AV/blob/main/TextTranslate.ipynb\" target=\"_parent\"><img src=\"https://colab.research.google.com/assets/colab-badge.svg\" alt=\"Open In Colab\"/></a>"
      ]
    },
    {
      "cell_type": "code",
      "source": [
        "!pip install newspaper3k\n"
      ],
      "metadata": {
        "id": "K1bwi1oQSIqo",
        "outputId": "4b27f0ea-2f55-42b0-a2c4-773bed92d3d7",
        "colab": {
          "base_uri": "https://localhost:8080/"
        }
      },
      "execution_count": 3,
      "outputs": [
        {
          "output_type": "stream",
          "name": "stdout",
          "text": [
            "Collecting newspaper3k\n",
            "  Downloading newspaper3k-0.2.8-py3-none-any.whl.metadata (11 kB)\n",
            "Requirement already satisfied: beautifulsoup4>=4.4.1 in /usr/local/lib/python3.10/dist-packages (from newspaper3k) (4.12.3)\n",
            "Requirement already satisfied: Pillow>=3.3.0 in /usr/local/lib/python3.10/dist-packages (from newspaper3k) (11.0.0)\n",
            "Requirement already satisfied: PyYAML>=3.11 in /usr/local/lib/python3.10/dist-packages (from newspaper3k) (6.0.2)\n",
            "Collecting cssselect>=0.9.2 (from newspaper3k)\n",
            "  Downloading cssselect-1.2.0-py2.py3-none-any.whl.metadata (2.2 kB)\n",
            "Requirement already satisfied: lxml>=3.6.0 in /usr/local/lib/python3.10/dist-packages (from newspaper3k) (5.3.0)\n",
            "Requirement already satisfied: nltk>=3.2.1 in /usr/local/lib/python3.10/dist-packages (from newspaper3k) (3.9.1)\n",
            "Requirement already satisfied: requests>=2.10.0 in /usr/local/lib/python3.10/dist-packages (from newspaper3k) (2.32.3)\n",
            "Collecting feedparser>=5.2.1 (from newspaper3k)\n",
            "  Downloading feedparser-6.0.11-py3-none-any.whl.metadata (2.4 kB)\n",
            "Collecting tldextract>=2.0.1 (from newspaper3k)\n",
            "  Downloading tldextract-5.1.3-py3-none-any.whl.metadata (11 kB)\n",
            "Collecting feedfinder2>=0.0.4 (from newspaper3k)\n",
            "  Downloading feedfinder2-0.0.4.tar.gz (3.3 kB)\n",
            "  Preparing metadata (setup.py) ... \u001b[?25l\u001b[?25hdone\n",
            "Collecting jieba3k>=0.35.1 (from newspaper3k)\n",
            "  Downloading jieba3k-0.35.1.zip (7.4 MB)\n",
            "\u001b[2K     \u001b[90m━━━━━━━━━━━━━━━━━━━━━━━━━━━━━━━━━━━━━━━━\u001b[0m \u001b[32m7.4/7.4 MB\u001b[0m \u001b[31m47.3 MB/s\u001b[0m eta \u001b[36m0:00:00\u001b[0m\n",
            "\u001b[?25h  Preparing metadata (setup.py) ... \u001b[?25l\u001b[?25hdone\n",
            "Requirement already satisfied: python-dateutil>=2.5.3 in /usr/local/lib/python3.10/dist-packages (from newspaper3k) (2.8.2)\n",
            "Collecting tinysegmenter==0.3 (from newspaper3k)\n",
            "  Downloading tinysegmenter-0.3.tar.gz (16 kB)\n",
            "  Preparing metadata (setup.py) ... \u001b[?25l\u001b[?25hdone\n",
            "Requirement already satisfied: soupsieve>1.2 in /usr/local/lib/python3.10/dist-packages (from beautifulsoup4>=4.4.1->newspaper3k) (2.6)\n",
            "Requirement already satisfied: six in /usr/local/lib/python3.10/dist-packages (from feedfinder2>=0.0.4->newspaper3k) (1.17.0)\n",
            "Collecting sgmllib3k (from feedparser>=5.2.1->newspaper3k)\n",
            "  Downloading sgmllib3k-1.0.0.tar.gz (5.8 kB)\n",
            "  Preparing metadata (setup.py) ... \u001b[?25l\u001b[?25hdone\n",
            "Requirement already satisfied: click in /usr/local/lib/python3.10/dist-packages (from nltk>=3.2.1->newspaper3k) (8.1.7)\n",
            "Requirement already satisfied: joblib in /usr/local/lib/python3.10/dist-packages (from nltk>=3.2.1->newspaper3k) (1.4.2)\n",
            "Requirement already satisfied: regex>=2021.8.3 in /usr/local/lib/python3.10/dist-packages (from nltk>=3.2.1->newspaper3k) (2024.11.6)\n",
            "Requirement already satisfied: tqdm in /usr/local/lib/python3.10/dist-packages (from nltk>=3.2.1->newspaper3k) (4.67.1)\n",
            "Requirement already satisfied: charset-normalizer<4,>=2 in /usr/local/lib/python3.10/dist-packages (from requests>=2.10.0->newspaper3k) (3.4.0)\n",
            "Requirement already satisfied: idna<4,>=2.5 in /usr/local/lib/python3.10/dist-packages (from requests>=2.10.0->newspaper3k) (3.10)\n",
            "Requirement already satisfied: urllib3<3,>=1.21.1 in /usr/local/lib/python3.10/dist-packages (from requests>=2.10.0->newspaper3k) (2.2.3)\n",
            "Requirement already satisfied: certifi>=2017.4.17 in /usr/local/lib/python3.10/dist-packages (from requests>=2.10.0->newspaper3k) (2024.12.14)\n",
            "Collecting requests-file>=1.4 (from tldextract>=2.0.1->newspaper3k)\n",
            "  Downloading requests_file-2.1.0-py2.py3-none-any.whl.metadata (1.7 kB)\n",
            "Requirement already satisfied: filelock>=3.0.8 in /usr/local/lib/python3.10/dist-packages (from tldextract>=2.0.1->newspaper3k) (3.16.1)\n",
            "Downloading newspaper3k-0.2.8-py3-none-any.whl (211 kB)\n",
            "\u001b[2K   \u001b[90m━━━━━━━━━━━━━━━━━━━━━━━━━━━━━━━━━━━━━━━━\u001b[0m \u001b[32m211.1/211.1 kB\u001b[0m \u001b[31m15.8 MB/s\u001b[0m eta \u001b[36m0:00:00\u001b[0m\n",
            "\u001b[?25hDownloading cssselect-1.2.0-py2.py3-none-any.whl (18 kB)\n",
            "Downloading feedparser-6.0.11-py3-none-any.whl (81 kB)\n",
            "\u001b[2K   \u001b[90m━━━━━━━━━━━━━━━━━━━━━━━━━━━━━━━━━━━━━━━━\u001b[0m \u001b[32m81.3/81.3 kB\u001b[0m \u001b[31m6.5 MB/s\u001b[0m eta \u001b[36m0:00:00\u001b[0m\n",
            "\u001b[?25hDownloading tldextract-5.1.3-py3-none-any.whl (104 kB)\n",
            "\u001b[2K   \u001b[90m━━━━━━━━━━━━━━━━━━━━━━━━━━━━━━━━━━━━━━━━\u001b[0m \u001b[32m104.9/104.9 kB\u001b[0m \u001b[31m8.5 MB/s\u001b[0m eta \u001b[36m0:00:00\u001b[0m\n",
            "\u001b[?25hDownloading requests_file-2.1.0-py2.py3-none-any.whl (4.2 kB)\n",
            "Building wheels for collected packages: tinysegmenter, feedfinder2, jieba3k, sgmllib3k\n",
            "  Building wheel for tinysegmenter (setup.py) ... \u001b[?25l\u001b[?25hdone\n",
            "  Created wheel for tinysegmenter: filename=tinysegmenter-0.3-py3-none-any.whl size=13539 sha256=e004400d8e64ead820c2b1c435cf32c551b7b3206c8892e2a452313a66cb5c55\n",
            "  Stored in directory: /root/.cache/pip/wheels/c8/d6/6c/384f58df48c00b9a31d638005143b5b3ac62c3d25fb1447f23\n",
            "  Building wheel for feedfinder2 (setup.py) ... \u001b[?25l\u001b[?25hdone\n",
            "  Created wheel for feedfinder2: filename=feedfinder2-0.0.4-py3-none-any.whl size=3342 sha256=df11e580475c80f597fd6ac07adb85da7a64e5e36574b0baabb0975cbc47f469\n",
            "  Stored in directory: /root/.cache/pip/wheels/97/02/e7/a1ff1760e12bdbaab0ac824fae5c1bc933e41c4ccd6a8f8edb\n",
            "  Building wheel for jieba3k (setup.py) ... \u001b[?25l\u001b[?25hdone\n",
            "  Created wheel for jieba3k: filename=jieba3k-0.35.1-py3-none-any.whl size=7398379 sha256=f09f387a3150f704f4b04c1b5a361e9b4e1cab4cca4866ce4d7a2361b29ddfac\n",
            "  Stored in directory: /root/.cache/pip/wheels/7a/c4/0c/12a9a314ecac499456c4c3b2fcc2f635a3b45a39dfbd240299\n",
            "  Building wheel for sgmllib3k (setup.py) ... \u001b[?25l\u001b[?25hdone\n",
            "  Created wheel for sgmllib3k: filename=sgmllib3k-1.0.0-py3-none-any.whl size=6047 sha256=7b3ddace599a0240dbf54694db9ea2458d32469cc6d6de14bfa508399b64e661\n",
            "  Stored in directory: /root/.cache/pip/wheels/f0/69/93/a47e9d621be168e9e33c7ce60524393c0b92ae83cf6c6e89c5\n",
            "Successfully built tinysegmenter feedfinder2 jieba3k sgmllib3k\n",
            "Installing collected packages: tinysegmenter, sgmllib3k, jieba3k, feedparser, cssselect, requests-file, feedfinder2, tldextract, newspaper3k\n",
            "Successfully installed cssselect-1.2.0 feedfinder2-0.0.4 feedparser-6.0.11 jieba3k-0.35.1 newspaper3k-0.2.8 requests-file-2.1.0 sgmllib3k-1.0.0 tinysegmenter-0.3 tldextract-5.1.3\n"
          ]
        }
      ]
    },
    {
      "cell_type": "code",
      "source": [
        "!pip install lxml_html_clean"
      ],
      "metadata": {
        "id": "eEzPPSBjSWyu",
        "outputId": "9179c3c0-1685-4044-a55d-0bcf56b94097",
        "colab": {
          "base_uri": "https://localhost:8080/"
        }
      },
      "execution_count": 5,
      "outputs": [
        {
          "output_type": "stream",
          "name": "stdout",
          "text": [
            "Collecting lxml_html_clean\n",
            "  Downloading lxml_html_clean-0.4.1-py3-none-any.whl.metadata (2.4 kB)\n",
            "Requirement already satisfied: lxml in /usr/local/lib/python3.10/dist-packages (from lxml_html_clean) (5.3.0)\n",
            "Downloading lxml_html_clean-0.4.1-py3-none-any.whl (14 kB)\n",
            "Installing collected packages: lxml_html_clean\n",
            "Successfully installed lxml_html_clean-0.4.1\n"
          ]
        }
      ]
    },
    {
      "cell_type": "code",
      "source": [
        "from newspaper import Article\n",
        "\n",
        "def scrape_article(url):\n",
        "    article = Article(url)\n",
        "    article.download()\n",
        "    article.parse()\n",
        "    print(f\"Title: {article.title}\")\n",
        "    print(f\"Authors: {article.authors}\")\n",
        "    print(f\"Publication Date: {article.publish_date}\")\n",
        "    print(f\"Text: {article.text}\")\n",
        "    return article.text\n"
      ],
      "metadata": {
        "id": "mbwklyytRsTr"
      },
      "execution_count": 15,
      "outputs": []
    },
    {
      "cell_type": "code",
      "source": [
        "from transformers import pipeline\n",
        "\n",
        "# Load translation and summarization pipelines\n",
        "translator = pipeline(\"translation_hi_to_en\", model=\"Helsinki-NLP/opus-mt-hi-en\")\n",
        "summarizer = pipeline(\"summarization\")\n",
        "\n",
        "def translate_and_summarize(text):\n",
        "    # Translate from Hindi to English\n",
        "    translation = translator(text)[0]['translation_text']\n",
        "    # Summarize the translated text, adjusting max_length\n",
        "    summary = summarizer(translation, max_length=min(len(translation.split()), 142) , min_length = 30)[0]['summary_text']\n",
        "    return summary\n",
        "# Example usage\n",
        "text = \"\"\"सीयूईटी पीजी परीक्षा कंप्यूटर आधारित (CBT) मोड में आयोजित की जाएगी। एग्जाम में कुल 100 बहुविकल्पीय प्रश्न (MCQ) पूछे जाएंगे। परीक्षा की अवधि एक घंटा 30 मिनट की होगी। परीक्षा के लिए आवेदन फॉर्म 1 फरवरी 2025 तक स्वीकार किए जाएंगे। आवेदन करने वाले स्टूडेंट्स ध्यान से एप्लीकेशन फॉर्म भरें क्योंकि गड़बड़ी पकड़ में आने पर फॉर्म स्वीकार नहीं किया जाएगा।\n",
        "\n",
        "एजुकेशन डेस्क, नई दिल्ली। कॉमन यूनिवर्सिटी एंट्रेंस टेस्ट पीजी 2025 के लिए ऑफिशियल नोटिफिकेशन जारी कर दिया गया है। सूचना जारी होने के साथ ही परीक्षा के लिए रजिस्ट्रेशन प्रक्रिया शुरू हो चुकी है। इस एग्जाम के लिए ऑनलाइन आवेदन फाॅर्म 1 फरवरी, 2025 तक स्वीकार किए जाएंगे। परीक्षा के लिए आवेदन करने के योग्य और इच्छुक स्टूडेंट्स आधिकारिक वेबसाइट nta.ac.in और exams.nta.ac.in पर जाकर ऑनलाइन आवेदन फॉर्म भर सकते हैं। साथ ही निर्धारित शुल्क जमा करके अपना एप्लीकेशन प्रोसेस पूरा कर सकते हैं।\n",
        "\n",
        "नेशनल टेस्टिंग एजेंसी (NTA) की ओर से जारी शेड्यूल के अनुसार, परीक्षा के लिए आवेदन की प्रक्रिया 1 फरवरी, 2025 को समाप्त होने के बाद 3 फरवरी से 5 फरवरी, 2025 तक करेक्शन विंडो ओपन की जाएगी। अभ्यर्थी निर्धारित तिथि के भीतर अपने आवेदन पत्र में करेक्शन कर सकते हैं। अंतिम तिथि बीतने के बाद कोई करेक्शन स्वीकार नहीं किया जाएगा। इसलिए अभ्यर्थी इस बात का ध्यान रखें। CUET PG Exam 2025: मार्च में आयोजित होगी सीयूईटी पीजी परीक्षा\n",
        "\n",
        "सीयूईटी पीजी परीक्षा का आयोजन 13 मार्च 2025 से 31 मार्च 2025 के बीच किया जाएगा। इस परीक्षा कुल 157 विषयों के लिए आयोजित की जाएगी। देश भर के 312 शहरों में और भारत के बाहर के 27 शहरों में आयोजित की जाएगी। सीयूईटी पीजी परीक्षा का आयोजन 13 मार्च 2025 से 31 मार्च 2025 के बीच किया जाएगा। इस परीक्षा कुल 157 विषयों के लिए आयोजित की जाएगी। देश भर के 312 शहरों में और भारत के बाहर के 27 शहरों में आयोजित की जाएगी।\"\"\"\n",
        "print(translate_and_summarize(text))"
      ],
      "metadata": {
        "id": "vQrsn6xtR2Ey",
        "outputId": "cfc80f17-a18e-45da-8b10-6f22fbbcc928",
        "colab": {
          "base_uri": "https://localhost:8080/"
        }
      },
      "execution_count": 19,
      "outputs": [
        {
          "output_type": "stream",
          "name": "stderr",
          "text": [
            "/usr/local/lib/python3.10/dist-packages/transformers/models/marian/tokenization_marian.py:175: UserWarning: Recommended: pip install sacremoses.\n",
            "  warnings.warn(\"Recommended: pip install sacremoses.\")\n",
            "Device set to use cpu\n",
            "No model was supplied, defaulted to sshleifer/distilbart-cnn-12-6 and revision a4f8f3e (https://huggingface.co/sshleifer/distilbart-cnn-12-6).\n",
            "Using a pipeline without specifying a model name and revision in production is not recommended.\n",
            "Device set to use cpu\n"
          ]
        },
        {
          "output_type": "stream",
          "name": "stdout",
          "text": [
            " CUT will be organized into computer tests (CBT) mode . A total of 100 possible questions (MCQ) will be asked\n"
          ]
        }
      ]
    },
    {
      "cell_type": "code",
      "source": [
        "def process_url(url):\n",
        "    text = scrape_article(url)\n",
        "    if text:\n",
        "        summary = translate_and_summarize(text)\n",
        "        if summary:\n",
        "          return summary\n",
        "        else:\n",
        "          return \"Error summarizing the article\"\n",
        "    else:\n",
        "      return \"Error scraping the article\"\n",
        "\n",
        "# Example usage within an \"app\" loop\n",
        "while True:\n",
        "    url = input(\"Enter a URL (or type 'exit' to quit): \")\n",
        "    if url.lower() == 'exit':\n",
        "        break\n",
        "    result = process_url(url)\n",
        "result"
      ],
      "metadata": {
        "id": "L6GPWqJGUMbc",
        "outputId": "c848dee7-1962-43d3-8ce4-afea78fac445",
        "colab": {
          "base_uri": "https://localhost:8080/",
          "height": 264
        }
      },
      "execution_count": 16,
      "outputs": [
        {
          "name": "stdout",
          "output_type": "stream",
          "text": [
            "Enter a URL (or type 'exit' to quit): https://www.jagran.com/news/education-cuet-pg-2025-nta-has-released-common-university-entrance-test-notification-candidates-can-apply-till-1-feb2025-23860238.html?utm_source=article_detail&utm_medium=CRE&utm_campaign=latestnews_CRE\n",
            "Title: CUET PG 2025: सीयूईटी पीजी एग्जाम के लिए रजिस्ट्रेशन शुरू, ये है अंतिम तिथि, 13 से 31 मार्च तक होगी परीक्षा\n",
            "Authors: []\n",
            "Publication Date: None\n",
            "Text: सीयूईटी पीजी परीक्षा कंप्यूटर आधारित (CBT) मोड में आयोजित की जाएगी। एग्जाम में कुल 100 बहुविकल्पीय प्रश्न (MCQ) पूछे जाएंगे। परीक्षा की अवधि एक घंटा 30 मिनट की होगी। परीक्षा के लिए आवेदन फॉर्म 1 फरवरी 2025 तक स्वीकार किए जाएंगे। आवेदन करने वाले स्टूडेंट्स ध्यान से एप्लीकेशन फॉर्म भरें क्योंकि गड़बड़ी पकड़ में आने पर फॉर्म स्वीकार नहीं किया जाएगा।\n",
            "\n",
            "एजुकेशन डेस्क, नई दिल्ली। कॉमन यूनिवर्सिटी एंट्रेंस टेस्ट पीजी 2025 के लिए ऑफिशियल नोटिफिकेशन जारी कर दिया गया है। सूचना जारी होने के साथ ही परीक्षा के लिए रजिस्ट्रेशन प्रक्रिया शुरू हो चुकी है। इस एग्जाम के लिए ऑनलाइन आवेदन फाॅर्म 1 फरवरी, 2025 तक स्वीकार किए जाएंगे। परीक्षा के लिए आवेदन करने के योग्य और इच्छुक स्टूडेंट्स आधिकारिक वेबसाइट nta.ac.in और exams.nta.ac.in पर जाकर ऑनलाइन आवेदन फॉर्म भर सकते हैं। साथ ही निर्धारित शुल्क जमा करके अपना एप्लीकेशन प्रोसेस पूरा कर सकते हैं।\n",
            "\n",
            "नेशनल टेस्टिंग एजेंसी (NTA) की ओर से जारी शेड्यूल के अनुसार, परीक्षा के लिए आवेदन की प्रक्रिया 1 फरवरी, 2025 को समाप्त होने के बाद 3 फरवरी से 5 फरवरी, 2025 तक करेक्शन विंडो ओपन की जाएगी। अभ्यर्थी निर्धारित तिथि के भीतर अपने आवेदन पत्र में करेक्शन कर सकते हैं। अंतिम तिथि बीतने के बाद कोई करेक्शन स्वीकार नहीं किया जाएगा। इसलिए अभ्यर्थी इस बात का ध्यान रखें। CUET PG Exam 2025: मार्च में आयोजित होगी सीयूईटी पीजी परीक्षा\n",
            "\n",
            "सीयूईटी पीजी परीक्षा का आयोजन 13 मार्च 2025 से 31 मार्च 2025 के बीच किया जाएगा। इस परीक्षा कुल 157 विषयों के लिए आयोजित की जाएगी। देश भर के 312 शहरों में और भारत के बाहर के 27 शहरों में आयोजित की जाएगी। सीयूईटी पीजी परीक्षा का आयोजन 13 मार्च 2025 से 31 मार्च 2025 के बीच किया जाएगा। इस परीक्षा कुल 157 विषयों के लिए आयोजित की जाएगी। देश भर के 312 शहरों में और भारत के बाहर के 27 शहरों में आयोजित की जाएगी।\n",
            "Enter a URL (or type 'exit' to quit): exit\n"
          ]
        },
        {
          "output_type": "execute_result",
          "data": {
            "text/plain": [
              "' CUT will be organized into computer tests (CBT) mode . A total of 100 possible questions (MCQ) will be asked'"
            ],
            "application/vnd.google.colaboratory.intrinsic+json": {
              "type": "string"
            }
          },
          "metadata": {},
          "execution_count": 16
        }
      ]
    }
  ],
  "metadata": {
    "colab": {
      "name": "Welcome To Colab",
      "toc_visible": true,
      "provenance": [],
      "include_colab_link": true
    },
    "kernelspec": {
      "display_name": "Python 3",
      "name": "python3"
    }
  },
  "nbformat": 4,
  "nbformat_minor": 0
}